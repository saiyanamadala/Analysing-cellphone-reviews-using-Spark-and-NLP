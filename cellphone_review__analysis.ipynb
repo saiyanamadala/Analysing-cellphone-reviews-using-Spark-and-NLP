{
  "nbformat": 4,
  "nbformat_minor": 0,
  "metadata": {
    "colab": {
      "provenance": []
    },
    "kernelspec": {
      "name": "python3",
      "display_name": "Python 3"
    },
    "language_info": {
      "name": "python"
    }
  },
  "cells": [
    {
      "cell_type": "code",
      "execution_count": null,
      "metadata": {
        "id": "6CRdeMScelgs",
        "colab": {
          "base_uri": "https://localhost:8080/"
        },
        "outputId": "9b11023e-c8ef-453e-9bfd-74e108efb11e"
      },
      "outputs": [
        {
          "output_type": "stream",
          "name": "stdout",
          "text": [
            "Collecting pyspark\n",
            "  Downloading pyspark-3.5.0.tar.gz (316.9 MB)\n",
            "\u001b[2K     \u001b[90m━━━━━━━━━━━━━━━━━━━━━━━━━━━━━━━━━━━━━━━━\u001b[0m \u001b[32m316.9/316.9 MB\u001b[0m \u001b[31m2.8 MB/s\u001b[0m eta \u001b[36m0:00:00\u001b[0m\n",
            "\u001b[?25h  Preparing metadata (setup.py) ... \u001b[?25l\u001b[?25hdone\n",
            "Requirement already satisfied: py4j==0.10.9.7 in /usr/local/lib/python3.10/dist-packages (from pyspark) (0.10.9.7)\n",
            "Building wheels for collected packages: pyspark\n",
            "  Building wheel for pyspark (setup.py) ... \u001b[?25l\u001b[?25hdone\n",
            "  Created wheel for pyspark: filename=pyspark-3.5.0-py2.py3-none-any.whl size=317425345 sha256=a204bfbd325579d45c3ec7e507a6415281973534e8bb189153419c7506441055\n",
            "  Stored in directory: /root/.cache/pip/wheels/41/4e/10/c2cf2467f71c678cfc8a6b9ac9241e5e44a01940da8fbb17fc\n",
            "Successfully built pyspark\n",
            "Installing collected packages: pyspark\n",
            "Successfully installed pyspark-3.5.0\n"
          ]
        }
      ],
      "source": [
        "!pip install pyspark\n",
        "from pyspark.sql import SparkSession\n",
        "spark=SparkSession.builder.master('local[*]').getOrCreate()"
      ]
    },
    {
      "cell_type": "code",
      "source": [
        "from google.colab import drive\n",
        "drive.mount('/content/gdrive')"
      ],
      "metadata": {
        "id": "Vn6gJdM2e_Mq",
        "colab": {
          "base_uri": "https://localhost:8080/"
        },
        "outputId": "9c70f107-1821-4e0a-94ef-0b28112ee0c6"
      },
      "execution_count": null,
      "outputs": [
        {
          "output_type": "stream",
          "name": "stdout",
          "text": [
            "Mounted at /content/gdrive\n"
          ]
        }
      ]
    },
    {
      "cell_type": "code",
      "source": [
        "data=spark.read.json('/content/gdrive/MyDrive/PBDM project/Cell_Phones_and_Accessories_5.json')"
      ],
      "metadata": {
        "id": "0YNUK-Zggm7K"
      },
      "execution_count": null,
      "outputs": []
    },
    {
      "cell_type": "code",
      "source": [
        "data.show()"
      ],
      "metadata": {
        "id": "Hz31HWePgwVe",
        "colab": {
          "base_uri": "https://localhost:8080/"
        },
        "outputId": "834d40b0-6b36-4852-aad9-4fe0c75fd410"
      },
      "execution_count": null,
      "outputs": [
        {
          "output_type": "stream",
          "name": "stdout",
          "text": [
            "+----------+-----+-------+--------------------+-----------+--------------+--------------------+--------------------+--------------------+--------------+--------+----+\n",
            "|      asin|image|overall|          reviewText| reviewTime|    reviewerID|        reviewerName|               style|             summary|unixReviewTime|verified|vote|\n",
            "+----------+-----+-------+--------------------+-----------+--------------+--------------------+--------------------+--------------------+--------------+--------+----+\n",
            "|7508492919| NULL|    5.0|Looks even better...| 08 4, 2014|A24E3SXTC62LJI|    Claudia Valdivia|{NULL,  Bling, NU...|Can't stop won't ...|    1407110400|    true|NULL|\n",
            "|7508492919| NULL|    5.0|When you don't wa...|02 12, 2014|A269FLZCB4GIPV|         sarah ponce|                NULL|                   1|    1392163200|    true|NULL|\n",
            "|7508492919| NULL|    3.0|so the case came ...| 02 8, 2014| AB6CHQWHZW4TV|                 Kai|                NULL|            Its okay|    1391817600|    true|NULL|\n",
            "|7508492919| NULL|    2.0|DON'T CARE FOR IT...| 02 4, 2014| A1M117A53LEI8|     Sharon Williams|                NULL|                CASE|    1391472000|    true|NULL|\n",
            "|7508492919| NULL|    4.0|I liked it becaus...| 02 3, 2014|A272DUT8M88ZS8|     Bella Rodriguez|                NULL|               Cute!|    1391385600|    true|NULL|\n",
            "|7508492919| NULL|    2.0|The product looke...|01 27, 2014|A1DW2L6XCC5TJS|     Amazon Customer|                NULL|        Not so happy|    1390780800|    true|NULL|\n",
            "|7508492919| NULL|    3.0|I FINALLY got my ...|01 23, 2014| AQC61R4UST7UH|        DaMara Estep|                NULL|          It's cute!|    1390435200|    true|NULL|\n",
            "|7508492919| NULL|    5.0|It is a very cute...|01 17, 2014|A31OVFL91BCKXG|Ashley Nicole Miller|                NULL|           Cute case|    1389916800|    true|NULL|\n",
            "|7508492919| NULL|    1.0|DO NOT BUY! this ...|12 27, 2013|A1K0VLK6O5Z22M|           BeeLove21|                NULL|         WORST ITEM!|    1388102400|    true|NULL|\n",
            "|7508492919| NULL|    4.0|I really love thi...|12 16, 2013|A1K3BWU73YB44P|          Mrs. Ochoa|                NULL|        Pretty Cute!|    1387152000|    true|NULL|\n",
            "|7508492919| NULL|    4.0|its super cute an...|10 27, 2013|A1LBVKZ3X50ES7|               Paige|                NULL|                case|    1382832000|    true|NULL|\n",
            "|7508492919| NULL|    5.0|Another great pro...|10 23, 2013|A2ZB7KGUSBR9P3|            E. Bryce|                NULL|Bling bling for i...|    1382486400|    true|NULL|\n",
            "|7508492919| NULL|    1.0|Very cheap broke ...| 10 8, 2013|A1ROZSS0KIE0CC|                Tina|                NULL|       cheap plastic|    1381190400|    true|NULL|\n",
            "|7508492919| NULL|    4.0|I purchased this ...|09 19, 2013|A1EHAOK0XD3P8E|                barb|                NULL|               Great|    1379548800|   false|NULL|\n",
            "|7508492919| NULL|    5.0|Beautiful quality...|09 10, 2013|A18U23JWTMQX5C|        KaitlynxO625|                NULL|I can't stop usin...|    1378771200|    true|NULL|\n",
            "|7508492919| NULL|    5.0|It is such a good...|08 28, 2013|A1JQUCTFM4UKMQ|         M. Antillon|                NULL|           I love it|    1377648000|    true|NULL|\n",
            "|7508492919| NULL|    3.0|Can not argue wit...|07 14, 2013|A3NS9QFI3TYGYP|             Anthony|                NULL|     Great for price|    1373760000|    true|NULL|\n",
            "|7508492919| NULL|    2.0|I used this case ...|06 27, 2013|A1BZ055LW3TDLP|            Chasitty|                NULL|                ....|    1372291200|    true|NULL|\n",
            "|7508492919| NULL|    5.0|Super durable and...| 06 4, 2013|A29KSIE8BKYVQN|          Janine  B.|                NULL|           Good case|    1370304000|    true|NULL|\n",
            "|7508492919| NULL|    5.0|I have used this ...| 06 3, 2013|A2CQO0FORCTC2R|               Sulli|                NULL|        very sparkly|    1370217600|    true|NULL|\n",
            "+----------+-----+-------+--------------------+-----------+--------------+--------------------+--------------------+--------------------+--------------+--------+----+\n",
            "only showing top 20 rows\n",
            "\n"
          ]
        }
      ]
    },
    {
      "cell_type": "code",
      "source": [
        "data=data.filter((data.reviewText.isNotNull()) & (data[\"summary\"].isNotNull()))"
      ],
      "metadata": {
        "id": "05ygdD85lqIw"
      },
      "execution_count": null,
      "outputs": []
    },
    {
      "cell_type": "code",
      "source": [
        "udata=data.dropDuplicates()"
      ],
      "metadata": {
        "id": "ujXNFruVlIAb"
      },
      "execution_count": null,
      "outputs": []
    },
    {
      "cell_type": "code",
      "source": [
        "udata.show()"
      ],
      "metadata": {
        "id": "eGykGSGFmBlK",
        "colab": {
          "base_uri": "https://localhost:8080/"
        },
        "outputId": "6102b34c-c25e-4af8-b6e6-b7e131a6a6b5"
      },
      "execution_count": null,
      "outputs": [
        {
          "output_type": "stream",
          "name": "stdout",
          "text": [
            "+----------+-----+-------+--------------------+-----------+--------------+-----------------+--------------------+--------------------+--------------+--------+----+\n",
            "|      asin|image|overall|          reviewText| reviewTime|    reviewerID|     reviewerName|               style|             summary|unixReviewTime|verified|vote|\n",
            "+----------+-----+-------+--------------------+-----------+--------------+-----------------+--------------------+--------------------+--------------+--------+----+\n",
            "|8288862993| NULL|    5.0|           Excellent| 09 2, 2014|A26BTJ916KABRA|   Eneicy Paradas|                NULL|          Five Stars|    1409616000|    true|NULL|\n",
            "|9707716371| NULL|    5.0|Item exactly as d...|09 13, 2017|A2PLVMA83745ZS|              gr2|                NULL|Item exactly as d...|    1505260800|    true|   2|\n",
            "|9707716371| NULL|    5.0|Works perfect and...|04 21, 2017|A30B03YQN6SR1P|   Agentsmith2099|                NULL|            Perfect!|    1492732800|    true|NULL|\n",
            "|9985538250| NULL|    5.0|This is a great l...|08 21, 2010| A1JVFV1VAA08X|        r3vi3ws4u|                NULL|Great product for...|    1282348800|    true|   3|\n",
            "|B00009WCAP| NULL|    1.0|I rarely write pr...| 04 3, 2011| AXJQU8GRQMGVQ|            M. Yu|                NULL|Does Nothing But ...|    1301788800|    true|NULL|\n",
            "|B0001J3UWU| NULL|    5.0|I love my hot hea...|12 24, 2016|A399RNXGBGEC0P|        PyroNymph|{NULL, NULL, NULL...|  Re-usable and Cute|    1482537600|    true|NULL|\n",
            "|B0006TIA8Y| NULL|    5.0|Okay, this little...|06 18, 2012|A33RAJU0FDA0S3|  Blake A. Miller|{NULL, NULL, NULL...|AMAZING!  CUSTOME...|    1339977600|    true|NULL|\n",
            "|B00081GX8O| NULL|    3.0|Do not remember, ...|06 27, 2014|A3NIYLYB03X6R3|          B. King|                NULL| headset for razor 3|    1403827200|   false|NULL|\n",
            "|B0009B0IX4| NULL|    5.0|After buying and ...|02 28, 2007|A3T3S48UAVTUE9|       JanFlorida|{NULL, NULL, NULL...|         Works great|    1172620800|    true|   3|\n",
            "|B0009B0IX4| NULL|    5.0|I have never had ...|02 28, 2006| A32LVMRTL0XF6|        Shaunspad|{NULL, NULL, NULL...|       Great Headset|    1141084800|    true|   3|\n",
            "|B0009W8DL2| NULL|    4.0|I am using the Ja...|11 12, 2006|A3D1F28RDA23QA|        Tall Paul|                NULL|Great Addition to...|    1163289600|   false|   3|\n",
            "|B000HBOE5O| NULL|    3.0|I like the Plantr...|12 24, 2013| ATIBHDHTL6JJ7|      Conrad Page|                NULL|    Plantronics 640E|    1387843200|    true|NULL|\n",
            "|B000HBMP82| NULL|    5.0|Plantronics makes...| 11 4, 2009|A215IN14OKAE2T|             Thew|{NULL,  Grey Silv...|best bluetooth ba...|    1257292800|    true|NULL|\n",
            "|B000IXNEI4| NULL|    5.0|This is really no...| 08 7, 2009|A2RPPG5T4Z1GOA|               TK|                NULL|Love Love Love th...|    1249603200|    true|NULL|\n",
            "|B000JL4Y3Y| NULL|    5.0|Forgot to write a...|09 13, 2014| ACG8JDNDJ1S4B|         A. R. H.|                NULL|        Long Lasting|    1410566400|    true|NULL|\n",
            "|B000KKKI0M| NULL|    5.0|I am using this i...|10 21, 2013| AVJORH3ACR2A5|   OLAFO Gonzalez|{NULL, NULL, NULL...|         I am happy.|    1382313600|    true|NULL|\n",
            "|B000KO1GKY| NULL|    5.0|Very comfortable ...| 07 8, 2013| AN8AMCGUNRKNH|             Mike|                NULL|         Works great|    1373241600|    true|NULL|\n",
            "|B000M27FCW| NULL|    3.0|phone is good wor...| 10 5, 2013|A1TM36XB8XKRFC|  Amazon Customer|                NULL|    phone works fine|    1380931200|    true|NULL|\n",
            "|B000NVZE5M| NULL|    5.0|This is my first ...|06 18, 2010|A3V2PI7YM6U7YI|          Joe Sr.|{NULL, NULL, NULL...|        Great device|    1276819200|    true|NULL|\n",
            "|B000O8TWE8| NULL|    5.0|                Good|10 17, 2016| AZEB4WIRO952V|carlos vera perez|                NULL|          Five Stars|    1476662400|    true|NULL|\n",
            "+----------+-----+-------+--------------------+-----------+--------------+-----------------+--------------------+--------------------+--------------+--------+----+\n",
            "only showing top 20 rows\n",
            "\n"
          ]
        }
      ]
    },
    {
      "cell_type": "code",
      "source": [
        "cols_to_drop=['asin','image','style','vote']\n",
        "udata=udata.drop(*cols_to_drop)"
      ],
      "metadata": {
        "id": "qOfRR3q2m0Ex"
      },
      "execution_count": null,
      "outputs": []
    },
    {
      "cell_type": "code",
      "source": [
        "udata.show()"
      ],
      "metadata": {
        "id": "zCVwDkZJoTPD"
      },
      "execution_count": null,
      "outputs": []
    },
    {
      "cell_type": "code",
      "source": [
        "import pyspark.sql.functions as func\n",
        "udata=udata.withColumn(\"reviewText_lower\",func.lower(udata[\"reviewText\"]))\n",
        "udata=udata.withColumn(\"summary_lower\",func.lower(udata[\"summary\"]))"
      ],
      "metadata": {
        "id": "ooVz8UvZpilJ"
      },
      "execution_count": null,
      "outputs": []
    },
    {
      "cell_type": "code",
      "source": [
        "udata=udata.filter(~udata[\"reviewText\"].contains(\"case\") &\n",
        "                  ~udata[\"reviewText\"].contains(\"protector\") &\n",
        "                  ~udata[\"reviewText\"].contains(\"cover\"))\n",
        "udata=udata.filter(~udata[\"summary\"].contains(\"case\") &\n",
        "                  ~udata[\"summary\"].contains(\"protector\") &\n",
        "                  ~udata[\"summary\"].contains(\"cover\"))"
      ],
      "metadata": {
        "id": "6Ne5NF3TUcIq"
      },
      "execution_count": null,
      "outputs": []
    },
    {
      "cell_type": "code",
      "source": [
        "udata.count()"
      ],
      "metadata": {
        "id": "tgXuozzBVn1J"
      },
      "execution_count": null,
      "outputs": []
    },
    {
      "cell_type": "code",
      "source": [
        "udata.show()"
      ],
      "metadata": {
        "id": "3sY1q98xpv_1"
      },
      "execution_count": null,
      "outputs": []
    },
    {
      "cell_type": "code",
      "source": [
        "fdata=udata.filter(udata.verified==True)"
      ],
      "metadata": {
        "id": "ikcKgRrTtpd_"
      },
      "execution_count": null,
      "outputs": []
    },
    {
      "cell_type": "code",
      "source": [
        "fdata.count()"
      ],
      "metadata": {
        "id": "ZDdD9BlLWT_i"
      },
      "execution_count": null,
      "outputs": []
    },
    {
      "cell_type": "code",
      "source": [
        "fdata.show()"
      ],
      "metadata": {
        "id": "sFxI_52uteIC"
      },
      "execution_count": null,
      "outputs": []
    },
    {
      "cell_type": "code",
      "source": [
        "from pyspark.sql.functions import concat_ws, when\n",
        "fdata = fdata.withColumn(\"category\",\n",
        "                         when(fdata['reviewText_lower'].like('%battery%'), \"battery\")\n",
        "                         .when(fdata['reviewText_lower'].like('%display%'), \"display\")\n",
        "                         .when(fdata['reviewText_lower'].like('%ram%'), \"ram\")\n",
        "                         .when(fdata['reviewText_lower'].like('%connectivity%'), \"connectivity\")\n",
        "                         .when(fdata['reviewText_lower'].like('%camera%'), \"camera\")\n",
        "                         .when(fdata['reviewText_lower'].like('%storage%'), \"storage\")\n",
        "                         .when(fdata['reviewText_lower'].like('%screen%'), \"display\")\n",
        "                         .when(fdata['reviewText_lower'].like('%processor%'), \"processor\")\n",
        "                         .when(fdata['reviewText_lower'].like('%cpu%'), \"processor\")\n",
        "                         .when(fdata['reviewText_lower'].like('%weight%'), \"weight\")\n",
        "                         .when(fdata['reviewText_lower'].like('%speaker%'), \"speaker\")\n",
        "                         .when(fdata['reviewText_lower'].like('%software%'), \"software\")\n",
        "                         .when(fdata['reviewText_lower'].like('%operating system%'), \"software\")\n",
        "                         .otherwise(\"NA\"))\n"
      ],
      "metadata": {
        "id": "UqJVp0WUbYv3"
      },
      "execution_count": null,
      "outputs": []
    },
    {
      "cell_type": "code",
      "source": [
        "\n",
        "category_counts = fdata.groupBy(\"category\").count().orderBy(\"category\")\n",
        "category_counts.show()\n"
      ],
      "metadata": {
        "id": "yosOlYHCeylI"
      },
      "execution_count": null,
      "outputs": []
    },
    {
      "cell_type": "code",
      "source": [
        "fdata=fdata.filter(~(fdata['category']==\"NA\"))\n"
      ],
      "metadata": {
        "id": "FDlrKFsNfpec"
      },
      "execution_count": null,
      "outputs": []
    },
    {
      "cell_type": "code",
      "source": [
        "fdata.show()"
      ],
      "metadata": {
        "colab": {
          "base_uri": "https://localhost:8080/"
        },
        "id": "sVrIHYkZerI3",
        "outputId": "5c9d41dc-afdf-46ae-a3a9-325a3eb38ec7"
      },
      "execution_count": null,
      "outputs": [
        {
          "output_type": "stream",
          "name": "stdout",
          "text": [
            "+-------+--------------------+-----------+--------------+--------------------+--------------------+--------------+--------+--------------------+--------------------+--------+\n",
            "|overall|          reviewText| reviewTime|    reviewerID|        reviewerName|             summary|unixReviewTime|verified|    reviewText_lower|       summary_lower|category|\n",
            "+-------+--------------------+-----------+--------------+--------------------+--------------------+--------------+--------+--------------------+--------------------+--------+\n",
            "|    5.0|Item exactly as d...|09 13, 2017|A2PLVMA83745ZS|                 gr2|Item exactly as d...|    1505260800|    true|item exactly as d...|item exactly as d...| battery|\n",
            "|    5.0|Works perfect and...|04 21, 2017|A30B03YQN6SR1P|      Agentsmith2099|            Perfect!|    1492732800|    true|works perfect and...|            perfect!| battery|\n",
            "|    5.0|I have never had ...|02 28, 2006| A32LVMRTL0XF6|           Shaunspad|       Great Headset|    1141084800|    true|i have never had ...|       great headset| battery|\n",
            "|    5.0|Plantronics makes...| 11 4, 2009|A215IN14OKAE2T|                Thew|best bluetooth ba...|    1257292800|    true|plantronics makes...|best bluetooth ba...| battery|\n",
            "|    4.0|I agree with many...|06 22, 2008|A3VVMIMMTYQV5F|       Johnny_Amazon|A Very Decent Blu...|    1214092800|    true|i agree with many...|a very decent blu...|  weight|\n",
            "|    4.0|I don't use my ca...|02 21, 2008|A2XCYQKP1AUHIO|          R. Dickson|Works great on Tr...|    1203552000|    true|i don't use my ca...|works great on tr...|software|\n",
            "|    3.0|I have used this ...|11 14, 2008|A2CKY7GUUU6FPJ|         T. Voorhees|Nice phone with s...|    1226620800|    true|i have used this ...|nice phone with s...|software|\n",
            "|    3.0|The protective sh...|07 23, 2008|A1K2WS7DJ0X2DJ|          D. Johnson|Hmmm...not that g...|    1216771200|    true|the protective sh...|hmmm...not that g...| display|\n",
            "|    2.0|LED light to indi...|02 27, 2013|A12M4LP11ILM70|                  ET|LED Never Showed ...|    1361923200|    true|led light to indi...|led never showed ...| battery|\n",
            "|    3.0|Did not work with...| 04 8, 2010|A16JSCA4XNZDT4|          James Ross|works ok. not for...|    1270684800|    true|did not work with...|works ok. not for...| battery|\n",
            "|    2.0|I purchase this b...|09 12, 2016|A34PLO79FZAECV|              P. Kim|   short shelf life.|    1473638400|    true|i purchase this b...|   short shelf life.| battery|\n",
            "|    1.0|They sent the wro...|07 20, 2013|A2CWP0ZZFKOCKY|      sheila pittman|       wrong battery|    1374278400|    true|they sent the wro...|       wrong battery| battery|\n",
            "|    3.0|Speaker is nice a...|03 17, 2016|A3KI9A8DBQMJJY|Stephanie M. Bocc...|Speaker is nice a...|    1458172800|    true|speaker is nice a...|speaker is nice a...| speaker|\n",
            "|    1.0|This item worked ...|01 26, 2013|A3KKA2GYA0J7LB|          BlackLotus|        Doesn't work|    1359158400|    true|this item worked ...|        doesn't work| battery|\n",
            "|    4.0|Had the head set ...|12 11, 2010| ATDAO2JQJTZO4|               chris| great for the money|    1292025600|    true|had the head set ...| great for the money| battery|\n",
            "|    5.0|Have tried many b...| 08 4, 2010|A15SGFFV68SQ98|                Lisa|       Great Product|    1280880000|    true|have tried many b...|       great product|  weight|\n",
            "|    4.0|Great screen proc...|08 12, 2014|A2R6SVW73R4034|           K. Segura|          Four Stars|    1407801600|    true|great screen proc...|          four stars| display|\n",
            "|    5.0|espouse the conto...|02 12, 2014|A1ZCNOYO9AEA6J|              Samuel|                good|    1392163200|    true|espouse the conto...|                good| display|\n",
            "|    3.0|The iKross Wirele...| 08 5, 2014|A34ZEKVLYY0QZM|        Asher Taylor|Better Reception ...|    1407196800|    true|the ikross wirele...|better reception ...|  weight|\n",
            "|    5.0|Cheaper than buyi...| 10 4, 2012|A36WA7L88C2NW1|     Candace Drimmer|BEST thing ever f...|    1349308800|    true|cheaper than buyi...|best thing ever f...| speaker|\n",
            "+-------+--------------------+-----------+--------------+--------------------+--------------------+--------------+--------+--------------------+--------------------+--------+\n",
            "only showing top 20 rows\n",
            "\n"
          ]
        }
      ]
    },
    {
      "cell_type": "code",
      "source": [
        "fdata=fdata.withColumn('reviewText_lower',func.regexp_replace(fdata['reviewText_lower'],\"[^a-z ]\", \"\"))\n",
        "#fdata=fdata.withColumn('reviewText_lower',func.regexp_replace(fdata['reviewText_lower'],\"[' ']\",','))\n",
        "fdata=fdata.withColumn('reviewText_lower',func.split(fdata[\"reviewText_lower\"], \" \"))"
      ],
      "metadata": {
        "id": "GAamiglEuRuL"
      },
      "execution_count": null,
      "outputs": []
    },
    {
      "cell_type": "code",
      "source": [
        "fdata.show()"
      ],
      "metadata": {
        "id": "m2LlzCHZu-tU",
        "colab": {
          "base_uri": "https://localhost:8080/"
        },
        "outputId": "75caa784-93d9-4ec7-c66b-28eddc4b9186"
      },
      "execution_count": null,
      "outputs": [
        {
          "output_type": "stream",
          "name": "stdout",
          "text": [
            "+-------+--------------------+-----------+--------------+--------------------+--------------------+--------------+--------+--------------------+--------------------+--------+\n",
            "|overall|          reviewText| reviewTime|    reviewerID|        reviewerName|             summary|unixReviewTime|verified|    reviewText_lower|       summary_lower|category|\n",
            "+-------+--------------------+-----------+--------------+--------------------+--------------------+--------------+--------+--------------------+--------------------+--------+\n",
            "|    5.0|Item exactly as d...|09 13, 2017|A2PLVMA83745ZS|                 gr2|Item exactly as d...|    1505260800|    true|[item, exactly, a...|item exactly as d...| battery|\n",
            "|    5.0|Works perfect and...|04 21, 2017|A30B03YQN6SR1P|      Agentsmith2099|            Perfect!|    1492732800|    true|[works, perfect, ...|            perfect!| battery|\n",
            "|    5.0|I have never had ...|02 28, 2006| A32LVMRTL0XF6|           Shaunspad|       Great Headset|    1141084800|    true|[i, have, never, ...|       great headset| battery|\n",
            "|    5.0|Plantronics makes...| 11 4, 2009|A215IN14OKAE2T|                Thew|best bluetooth ba...|    1257292800|    true|[plantronics, mak...|best bluetooth ba...| battery|\n",
            "|    4.0|I agree with many...|06 22, 2008|A3VVMIMMTYQV5F|       Johnny_Amazon|A Very Decent Blu...|    1214092800|    true|[i, agree, with, ...|a very decent blu...|  weight|\n",
            "|    4.0|I don't use my ca...|02 21, 2008|A2XCYQKP1AUHIO|          R. Dickson|Works great on Tr...|    1203552000|    true|[i, dont, use, my...|works great on tr...|software|\n",
            "|    3.0|I have used this ...|11 14, 2008|A2CKY7GUUU6FPJ|         T. Voorhees|Nice phone with s...|    1226620800|    true|[i, have, used, t...|nice phone with s...|software|\n",
            "|    3.0|The protective sh...|07 23, 2008|A1K2WS7DJ0X2DJ|          D. Johnson|Hmmm...not that g...|    1216771200|    true|[the, protective,...|hmmm...not that g...| display|\n",
            "|    2.0|LED light to indi...|02 27, 2013|A12M4LP11ILM70|                  ET|LED Never Showed ...|    1361923200|    true|[led, light, to, ...|led never showed ...| battery|\n",
            "|    3.0|Did not work with...| 04 8, 2010|A16JSCA4XNZDT4|          James Ross|works ok. not for...|    1270684800|    true|[did, not, work, ...|works ok. not for...| battery|\n",
            "|    2.0|I purchase this b...|09 12, 2016|A34PLO79FZAECV|              P. Kim|   short shelf life.|    1473638400|    true|[i, purchase, thi...|   short shelf life.| battery|\n",
            "|    1.0|They sent the wro...|07 20, 2013|A2CWP0ZZFKOCKY|      sheila pittman|       wrong battery|    1374278400|    true|[they, sent, the,...|       wrong battery| battery|\n",
            "|    3.0|Speaker is nice a...|03 17, 2016|A3KI9A8DBQMJJY|Stephanie M. Bocc...|Speaker is nice a...|    1458172800|    true|[speaker, is, nic...|speaker is nice a...| speaker|\n",
            "|    1.0|This item worked ...|01 26, 2013|A3KKA2GYA0J7LB|          BlackLotus|        Doesn't work|    1359158400|    true|[this, item, work...|        doesn't work| battery|\n",
            "|    4.0|Had the head set ...|12 11, 2010| ATDAO2JQJTZO4|               chris| great for the money|    1292025600|    true|[had, the, head, ...| great for the money| battery|\n",
            "|    5.0|Have tried many b...| 08 4, 2010|A15SGFFV68SQ98|                Lisa|       Great Product|    1280880000|    true|[have, tried, man...|       great product|  weight|\n",
            "|    4.0|Great screen proc...|08 12, 2014|A2R6SVW73R4034|           K. Segura|          Four Stars|    1407801600|    true|[great, screen, p...|          four stars| display|\n",
            "|    5.0|espouse the conto...|02 12, 2014|A1ZCNOYO9AEA6J|              Samuel|                good|    1392163200|    true|[espouse, the, co...|                good| display|\n",
            "|    3.0|The iKross Wirele...| 08 5, 2014|A34ZEKVLYY0QZM|        Asher Taylor|Better Reception ...|    1407196800|    true|[the, ikross, wir...|better reception ...|  weight|\n",
            "|    5.0|Cheaper than buyi...| 10 4, 2012|A36WA7L88C2NW1|     Candace Drimmer|BEST thing ever f...|    1349308800|    true|[cheaper, than, b...|best thing ever f...| speaker|\n",
            "+-------+--------------------+-----------+--------------+--------------------+--------------------+--------------+--------+--------------------+--------------------+--------+\n",
            "only showing top 20 rows\n",
            "\n"
          ]
        }
      ]
    },
    {
      "cell_type": "code",
      "source": [
        "from pyspark.ml.feature import StopWordsRemover\n",
        "remover=StopWordsRemover(inputCol='reviewText_lower',outputCol='filtered')\n",
        "n_df=remover.transform(fdata)"
      ],
      "metadata": {
        "id": "eOJV9Q-zxcp-"
      },
      "execution_count": null,
      "outputs": []
    },
    {
      "cell_type": "code",
      "source": [
        "n_df.show()"
      ],
      "metadata": {
        "id": "ZhXLuHVC3SgE"
      },
      "execution_count": null,
      "outputs": []
    },
    {
      "cell_type": "code",
      "source": [
        "import nltk\n",
        "nltk.download('vader_lexicon')\n",
        "from nltk.sentiment.vader import SentimentIntensityAnalyzer\n",
        "def sentimental_Score(sentence):\n",
        "    sentence=' '.join(sentence)\n",
        "    analyzer = SentimentIntensityAnalyzer()\n",
        "    vs = analyzer.polarity_scores(sentence)\n",
        "    score=vs['compound']\n",
        "    if score >= 0.5:\n",
        "        return 'pos'+\",\"+str(score)\n",
        "    elif (score > -0.5) and (score < 0.5):\n",
        "        return 'neu'+\",\"+str(score)\n",
        "    elif score <= -0.5:\n",
        "        return 'neg'+\",\"+str(score)"
      ],
      "metadata": {
        "id": "qCYN9R8jEIBE",
        "colab": {
          "base_uri": "https://localhost:8080/"
        },
        "outputId": "2a5844c4-4c67-4662-8914-dca4cb3ddc8c"
      },
      "execution_count": null,
      "outputs": [
        {
          "output_type": "stream",
          "name": "stderr",
          "text": [
            "[nltk_data] Downloading package vader_lexicon to /root/nltk_data...\n"
          ]
        }
      ]
    },
    {
      "cell_type": "code",
      "source": [
        "from pyspark.sql.types import DoubleType,StringType\n",
        "sentiment_udf=func.udf(sentimental_Score,StringType())"
      ],
      "metadata": {
        "id": "M20Or2v8ISR0"
      },
      "execution_count": null,
      "outputs": []
    },
    {
      "cell_type": "code",
      "source": [
        "#n_df['sentiment']=n_df['filtered'].map(sentimental_Score)\n",
        "n_df=n_df.withColumn('sentiment',sentiment_udf(n_df['filtered']))"
      ],
      "metadata": {
        "id": "dxXNy-ZwHA0t"
      },
      "execution_count": null,
      "outputs": []
    },
    {
      "cell_type": "code",
      "source": [
        "n_df.show()"
      ],
      "metadata": {
        "id": "TdoRIfQ3KBJj",
        "colab": {
          "base_uri": "https://localhost:8080/"
        },
        "outputId": "75a4feaf-44b5-462d-83b8-6aa2886e2305"
      },
      "execution_count": null,
      "outputs": [
        {
          "output_type": "stream",
          "name": "stdout",
          "text": [
            "+-------+--------------------+-----------+--------------+--------------------+--------------------+--------------+--------+--------------------+--------------------+--------+--------------------+-----------+\n",
            "|overall|          reviewText| reviewTime|    reviewerID|        reviewerName|             summary|unixReviewTime|verified|    reviewText_lower|       summary_lower|category|            filtered|  sentiment|\n",
            "+-------+--------------------+-----------+--------------+--------------------+--------------------+--------------+--------+--------------------+--------------------+--------+--------------------+-----------+\n",
            "|    5.0|Item exactly as d...|09 13, 2017|A2PLVMA83745ZS|                 gr2|Item exactly as d...|    1505260800|    true|[item, exactly, a...|item exactly as d...| battery|[item, exactly, d...| pos,0.7906|\n",
            "|    5.0|Works perfect and...|04 21, 2017|A30B03YQN6SR1P|      Agentsmith2099|            Perfect!|    1492732800|    true|[works, perfect, ...|            perfect!| battery|[works, perfect, ...| pos,0.5719|\n",
            "|    5.0|I have never had ...|02 28, 2006| A32LVMRTL0XF6|           Shaunspad|       Great Headset|    1141084800|    true|[i, have, never, ...|       great headset| battery|[never, bluetooth...| pos,0.9481|\n",
            "|    5.0|Plantronics makes...| 11 4, 2009|A215IN14OKAE2T|                Thew|best bluetooth ba...|    1257292800|    true|[plantronics, mak...|best bluetooth ba...| battery|[plantronics, mak...| pos,0.6908|\n",
            "|    4.0|I agree with many...|06 22, 2008|A3VVMIMMTYQV5F|       Johnny_Amazon|A Very Decent Blu...|    1214092800|    true|[i, agree, with, ...|a very decent blu...|  weight|[agree, many, rev...| pos,0.8642|\n",
            "|    4.0|I don't use my ca...|02 21, 2008|A2XCYQKP1AUHIO|          R. Dickson|Works great on Tr...|    1203552000|    true|[i, dont, use, my...|works great on tr...|software|[dont, use, card,...| pos,0.6124|\n",
            "|    3.0|I have used this ...|11 14, 2008|A2CKY7GUUU6FPJ|         T. Voorhees|Nice phone with s...|    1226620800|    true|[i, have, used, t...|nice phone with s...|software|[used, phone, two...| pos,0.9386|\n",
            "|    3.0|The protective sh...|07 23, 2008|A1K2WS7DJ0X2DJ|          D. Johnson|Hmmm...not that g...|    1216771200|    true|[the, protective,...|hmmm...not that g...| display|[protective, shee...|neu,-0.1043|\n",
            "|    2.0|LED light to indi...|02 27, 2013|A12M4LP11ILM70|                  ET|LED Never Showed ...|    1361923200|    true|[led, light, to, ...|led never showed ...| battery|[led, light, indi...|neu,-0.2023|\n",
            "|    3.0|Did not work with...| 04 8, 2010|A16JSCA4XNZDT4|          James Ross|works ok. not for...|    1270684800|    true|[did, not, work, ...|works ok. not for...| battery|[work, htc, eris,...| pos,0.7269|\n",
            "|    2.0|I purchase this b...|09 12, 2016|A34PLO79FZAECV|              P. Kim|   short shelf life.|    1473638400|    true|[i, purchase, thi...|   short shelf life.| battery|[purchase, batter...| pos,0.5853|\n",
            "|    1.0|They sent the wro...|07 20, 2013|A2CWP0ZZFKOCKY|      sheila pittman|       wrong battery|    1374278400|    true|[they, sent, the,...|       wrong battery| battery|[sent, wrong, bat...|neu,-0.4767|\n",
            "|    3.0|Speaker is nice a...|03 17, 2016|A3KI9A8DBQMJJY|Stephanie M. Bocc...|Speaker is nice a...|    1458172800|    true|[speaker, is, nic...|speaker is nice a...| speaker|[speaker, nice, l...| pos,0.9246|\n",
            "|    1.0|This item worked ...|01 26, 2013|A3KKA2GYA0J7LB|          BlackLotus|        Doesn't work|    1359158400|    true|[this, item, work...|        doesn't work| battery|[item, worked, da...| pos,0.8828|\n",
            "|    4.0|Had the head set ...|12 11, 2010| ATDAO2JQJTZO4|               chris| great for the money|    1292025600|    true|[had, the, head, ...| great for the money| battery|[head, set, three...| pos,0.8807|\n",
            "|    5.0|Have tried many b...| 08 4, 2010|A15SGFFV68SQ98|                Lisa|       Great Product|    1280880000|    true|[have, tried, man...|       great product|  weight|[tried, many, blu...| pos,0.8748|\n",
            "|    4.0|Great screen proc...|08 12, 2014|A2R6SVW73R4034|           K. Segura|          Four Stars|    1407801600|    true|[great, screen, p...|          four stars| display|[great, screen, p...| pos,0.6249|\n",
            "|    5.0|espouse the conto...|02 12, 2014|A1ZCNOYO9AEA6J|              Samuel|                good|    1392163200|    true|[espouse, the, co...|                good| display|[espouse, contour...|    neu,0.0|\n",
            "|    3.0|The iKross Wirele...| 08 5, 2014|A34ZEKVLYY0QZM|        Asher Taylor|Better Reception ...|    1407196800|    true|[the, ikross, wir...|better reception ...|  weight|[ikross, wireless...| pos,0.9169|\n",
            "|    5.0|Cheaper than buyi...| 10 4, 2012|A36WA7L88C2NW1|     Candace Drimmer|BEST thing ever f...|    1349308800|    true|[cheaper, than, b...|best thing ever f...| speaker|[cheaper, buying,...| neu,0.4023|\n",
            "+-------+--------------------+-----------+--------------+--------------------+--------------------+--------------+--------+--------------------+--------------------+--------+--------------------+-----------+\n",
            "only showing top 20 rows\n",
            "\n"
          ]
        }
      ]
    },
    {
      "cell_type": "code",
      "source": [
        "n_df.count()"
      ],
      "metadata": {
        "id": "RuVMFBx40pjN"
      },
      "execution_count": null,
      "outputs": []
    },
    {
      "cell_type": "code",
      "source": [
        "n_df= n_df.filter(func.size(n_df['filtered']) <= 50)"
      ],
      "metadata": {
        "id": "EHwGuE9nyucR"
      },
      "execution_count": null,
      "outputs": []
    },
    {
      "cell_type": "code",
      "source": [
        "n_df.count()"
      ],
      "metadata": {
        "id": "uc6lB9nn0rd7"
      },
      "execution_count": null,
      "outputs": []
    },
    {
      "cell_type": "code",
      "source": [
        "n_df=n_df.withColumn(\"reviewText_lower_str\",func.concat_ws(\",\", n_df[\"reviewText_lower\"]))\n",
        "n_df=n_df.drop(\"reviewText_lower\")\n",
        "n_df=n_df.withColumn(\"filtered_str\",func.concat_ws(\",\", n_df[\"filtered\"]))\n",
        "n_df=n_df.drop(\"filtered\")"
      ],
      "metadata": {
        "id": "bsHA1znLh1zM"
      },
      "execution_count": null,
      "outputs": []
    },
    {
      "cell_type": "code",
      "source": [
        "n_df.show()"
      ],
      "metadata": {
        "id": "Nfk7UkoNz3CD",
        "colab": {
          "base_uri": "https://localhost:8080/"
        },
        "outputId": "51b652a0-aa99-4a07-b03c-61e2faea4db5"
      },
      "execution_count": null,
      "outputs": [
        {
          "output_type": "stream",
          "name": "stdout",
          "text": [
            "+-------+--------------------+-----------+--------------+--------------------+--------------------+--------------+--------+--------------------+--------+-----------+--------------------+--------------------+\n",
            "|overall|          reviewText| reviewTime|    reviewerID|        reviewerName|             summary|unixReviewTime|verified|       summary_lower|category|  sentiment|reviewText_lower_str|        filtered_str|\n",
            "+-------+--------------------+-----------+--------------+--------------------+--------------------+--------------+--------+--------------------+--------+-----------+--------------------+--------------------+\n",
            "|    5.0|Works perfect and...|04 21, 2017|A30B03YQN6SR1P|      Agentsmith2099|            Perfect!|    1492732800|    true|            perfect!| battery| pos,0.5719|works,perfect,and...|works,perfect,las...|\n",
            "|    3.0|The protective sh...|07 23, 2008|A1K2WS7DJ0X2DJ|          D. Johnson|Hmmm...not that g...|    1216771200|    true|hmmm...not that g...| display|neu,-0.1043|the,protective,sh...|protective,sheet,...|\n",
            "|    2.0|LED light to indi...|02 27, 2013|A12M4LP11ILM70|                  ET|LED Never Showed ...|    1361923200|    true|led never showed ...| battery|neu,-0.2023|led,light,to,indi...|led,light,indicat...|\n",
            "|    3.0|Did not work with...| 04 8, 2010|A16JSCA4XNZDT4|          James Ross|works ok. not for...|    1270684800|    true|works ok. not for...| battery| pos,0.7269|did,not,work,with...|work,htc,eris,dro...|\n",
            "|    2.0|I purchase this b...|09 12, 2016|A34PLO79FZAECV|              P. Kim|   short shelf life.|    1473638400|    true|   short shelf life.| battery| pos,0.5853|i,purchase,this,b...|purchase,battery,...|\n",
            "|    1.0|They sent the wro...|07 20, 2013|A2CWP0ZZFKOCKY|      sheila pittman|       wrong battery|    1374278400|    true|       wrong battery| battery|neu,-0.4767|they,sent,the,wro...|sent,wrong,batter...|\n",
            "|    3.0|Speaker is nice a...|03 17, 2016|A3KI9A8DBQMJJY|Stephanie M. Bocc...|Speaker is nice a...|    1458172800|    true|speaker is nice a...| speaker| pos,0.9246|speaker,is,nice,a...|speaker,nice,loud...|\n",
            "|    1.0|This item worked ...|01 26, 2013|A3KKA2GYA0J7LB|          BlackLotus|        Doesn't work|    1359158400|    true|        doesn't work| battery| pos,0.8828|this,item,worked,...|item,worked,days,...|\n",
            "|    5.0|Have tried many b...| 08 4, 2010|A15SGFFV68SQ98|                Lisa|       Great Product|    1280880000|    true|       great product|  weight| pos,0.8748|have,tried,many,b...|tried,many,blueto...|\n",
            "|    4.0|Great screen proc...|08 12, 2014|A2R6SVW73R4034|           K. Segura|          Four Stars|    1407801600|    true|          four stars| display| pos,0.6249|great,screen,proc...|great,screen,proc...|\n",
            "|    5.0|espouse the conto...|02 12, 2014|A1ZCNOYO9AEA6J|              Samuel|                good|    1392163200|    true|                good| display|    neu,0.0|espouse,the,conto...|espouse,contour,p...|\n",
            "|    5.0|Cheaper than buyi...| 10 4, 2012|A36WA7L88C2NW1|     Candace Drimmer|BEST thing ever f...|    1349308800|    true|best thing ever f...| speaker| neu,0.4023|cheaper,than,buyi...|cheaper,buying,ne...|\n",
            "|    3.0|The phone came wi...| 04 2, 2015|A2AM4TTGAZ46MS|              JOr F.|         Three Stars|    1427932800|    true|         three stars| display| neu,0.4404|the,phone,came,wi...|phone,came,detail...|\n",
            "|    5.0|I understand the ...|02 28, 2014| AN9CP6J4JF91X|   Thomas L. Ballard|                Bad.|    1393545600|    true|                bad.| display|neu,-0.4019|i,understand,the,...|understand,people...|\n",
            "|    1.0|Doesn't stick to ...| 03 2, 2012|A1E0D0ZXBE90GI|     Amazon Customer|      Not Great.....|    1330646400|    true|      not great.....| display| neu,0.4939|doesnt,stick,to,t...|doesnt,stick,ipod...|\n",
            "|    5.0|took about 30 sec...|06 21, 2011|A30CW9ZQUUNG9M|                Cmrz|         great mount|    1308614400|    true|         great mount| display|  pos,0.886|took,about,,secon...|took,,seconds,ins...|\n",
            "|    2.0|This product not ...|07 31, 2012|A2G1JZHM8AEQ3L|              Joanne|   very disappointed|    1343692800|    true|   very disappointed| display| pos,0.9033|this,product,not,...|product,even,fit,...|\n",
            "|    5.0|Hey people! I mea...| 08 5, 2012|A1DXCMSP6DUU5K|          SamuraiJNG|         News Flash!|    1344124800|    true|         news flash!| battery|  neu,-0.34|hey,people,i,mean...|hey,people,mean,u...|\n",
            "|    1.0|Well customer ser...| 07 4, 2012|A25VM2WN7OPYR4|Linda is an Amazo...|    not a good phone|    1341360000|    true|    not a good phone| battery| neu,0.4939|well,customer,ser...|well,customer,ser...|\n",
            "|    2.0|If you have a cel...|05 26, 2013|A11OGQJRXF3ZQC|         musclecar61|   Anti Glare Covers|    1369526400|    true|   anti glare covers| display|neu,-0.0026|if,you,have,a,cel...|cell,phone,need,f...|\n",
            "+-------+--------------------+-----------+--------------+--------------------+--------------------+--------------+--------+--------------------+--------+-----------+--------------------+--------------------+\n",
            "only showing top 20 rows\n",
            "\n"
          ]
        }
      ]
    },
    {
      "cell_type": "code",
      "source": [
        "#l_df=n_df.limit(100)"
      ],
      "metadata": {
        "id": "TuyNv8YPWweP"
      },
      "execution_count": null,
      "outputs": []
    },
    {
      "cell_type": "code",
      "source": [
        "#l_df.write.option(\"header\",True).csv('/content/gdrive/MyDrive/PBDM project/cell_phone_analysis(final)2.csv',mode=\"overwrite\")"
      ],
      "metadata": {
        "id": "apUt0-3zgvth"
      },
      "execution_count": null,
      "outputs": []
    },
    {
      "cell_type": "code",
      "source": [
        "pdf=n_df.toPandas()"
      ],
      "metadata": {
        "id": "VucvX5J8XjNz"
      },
      "execution_count": null,
      "outputs": []
    },
    {
      "cell_type": "code",
      "source": [
        "pdf.head()"
      ],
      "metadata": {
        "colab": {
          "base_uri": "https://localhost:8080/",
          "height": 530
        },
        "id": "Ez2Z_UZ7vX1K",
        "outputId": "889ba50d-cbd5-4c3a-f484-d85e11668aad"
      },
      "execution_count": null,
      "outputs": [
        {
          "output_type": "execute_result",
          "data": {
            "text/plain": [
              "   overall                                         reviewText   reviewTime  \\\n",
              "0      5.0  Works perfect and it lasts significantly very ...  04 21, 2017   \n",
              "1      3.0  The protective sheet for the inside screen wor...  07 23, 2008   \n",
              "2      2.0  LED light to indicate whether the batter was c...  02 27, 2013   \n",
              "3      3.0  Did not work with my HTC Eris Droid to well. I...   04 8, 2010   \n",
              "4      2.0  I purchase this battery back in 2013 and use t...  09 12, 2016   \n",
              "\n",
              "       reviewerID    reviewerName                                summary  \\\n",
              "0  A30B03YQN6SR1P  Agentsmith2099                               Perfect!   \n",
              "1  A1K2WS7DJ0X2DJ      D. Johnson                  Hmmm...not that great   \n",
              "2  A12M4LP11ILM70              ET         LED Never Showed Fully Charged   \n",
              "3  A16JSCA4XNZDT4      James Ross  works ok. not for noisey enviroments.   \n",
              "4  A34PLO79FZAECV          P. Kim                      short shelf life.   \n",
              "\n",
              "   unixReviewTime  verified                          summary_lower category  \\\n",
              "0      1492732800      True                               perfect!  battery   \n",
              "1      1216771200      True                  hmmm...not that great  display   \n",
              "2      1361923200      True         led never showed fully charged  battery   \n",
              "3      1270684800      True  works ok. not for noisey enviroments.  battery   \n",
              "4      1473638400      True                      short shelf life.  battery   \n",
              "\n",
              "     sentiment                               reviewText_lower_str  \\\n",
              "0   pos,0.5719  works,perfect,and,it,lasts,significantly,very,...   \n",
              "1  neu,-0.1043  the,protective,sheet,for,the,inside,screen,wor...   \n",
              "2  neu,-0.2023  led,light,to,indicate,whether,the,batter,was,c...   \n",
              "3   pos,0.7269  did,not,work,with,my,htc,eris,droid,to,well,it...   \n",
              "4   pos,0.5853  i,purchase,this,battery,back,in,,and,use,two,w...   \n",
              "\n",
              "                                        filtered_str  \n",
              "0  works,perfect,lasts,significantly,long,battery...  \n",
              "1  protective,sheet,inside,screen,works,great,out...  \n",
              "2  led,light,indicate,whether,batter,charged,neve...  \n",
              "3  work,htc,eris,droid,well,get,staticy,times,hea...  \n",
              "4  purchase,battery,back,,use,two,worked,well,try...  "
            ],
            "text/html": [
              "\n",
              "  <div id=\"df-3718da02-b41d-4a2e-ad55-83169d2d2a19\" class=\"colab-df-container\">\n",
              "    <div>\n",
              "<style scoped>\n",
              "    .dataframe tbody tr th:only-of-type {\n",
              "        vertical-align: middle;\n",
              "    }\n",
              "\n",
              "    .dataframe tbody tr th {\n",
              "        vertical-align: top;\n",
              "    }\n",
              "\n",
              "    .dataframe thead th {\n",
              "        text-align: right;\n",
              "    }\n",
              "</style>\n",
              "<table border=\"1\" class=\"dataframe\">\n",
              "  <thead>\n",
              "    <tr style=\"text-align: right;\">\n",
              "      <th></th>\n",
              "      <th>overall</th>\n",
              "      <th>reviewText</th>\n",
              "      <th>reviewTime</th>\n",
              "      <th>reviewerID</th>\n",
              "      <th>reviewerName</th>\n",
              "      <th>summary</th>\n",
              "      <th>unixReviewTime</th>\n",
              "      <th>verified</th>\n",
              "      <th>summary_lower</th>\n",
              "      <th>category</th>\n",
              "      <th>sentiment</th>\n",
              "      <th>reviewText_lower_str</th>\n",
              "      <th>filtered_str</th>\n",
              "    </tr>\n",
              "  </thead>\n",
              "  <tbody>\n",
              "    <tr>\n",
              "      <th>0</th>\n",
              "      <td>5.0</td>\n",
              "      <td>Works perfect and it lasts significantly very ...</td>\n",
              "      <td>04 21, 2017</td>\n",
              "      <td>A30B03YQN6SR1P</td>\n",
              "      <td>Agentsmith2099</td>\n",
              "      <td>Perfect!</td>\n",
              "      <td>1492732800</td>\n",
              "      <td>True</td>\n",
              "      <td>perfect!</td>\n",
              "      <td>battery</td>\n",
              "      <td>pos,0.5719</td>\n",
              "      <td>works,perfect,and,it,lasts,significantly,very,...</td>\n",
              "      <td>works,perfect,lasts,significantly,long,battery...</td>\n",
              "    </tr>\n",
              "    <tr>\n",
              "      <th>1</th>\n",
              "      <td>3.0</td>\n",
              "      <td>The protective sheet for the inside screen wor...</td>\n",
              "      <td>07 23, 2008</td>\n",
              "      <td>A1K2WS7DJ0X2DJ</td>\n",
              "      <td>D. Johnson</td>\n",
              "      <td>Hmmm...not that great</td>\n",
              "      <td>1216771200</td>\n",
              "      <td>True</td>\n",
              "      <td>hmmm...not that great</td>\n",
              "      <td>display</td>\n",
              "      <td>neu,-0.1043</td>\n",
              "      <td>the,protective,sheet,for,the,inside,screen,wor...</td>\n",
              "      <td>protective,sheet,inside,screen,works,great,out...</td>\n",
              "    </tr>\n",
              "    <tr>\n",
              "      <th>2</th>\n",
              "      <td>2.0</td>\n",
              "      <td>LED light to indicate whether the batter was c...</td>\n",
              "      <td>02 27, 2013</td>\n",
              "      <td>A12M4LP11ILM70</td>\n",
              "      <td>ET</td>\n",
              "      <td>LED Never Showed Fully Charged</td>\n",
              "      <td>1361923200</td>\n",
              "      <td>True</td>\n",
              "      <td>led never showed fully charged</td>\n",
              "      <td>battery</td>\n",
              "      <td>neu,-0.2023</td>\n",
              "      <td>led,light,to,indicate,whether,the,batter,was,c...</td>\n",
              "      <td>led,light,indicate,whether,batter,charged,neve...</td>\n",
              "    </tr>\n",
              "    <tr>\n",
              "      <th>3</th>\n",
              "      <td>3.0</td>\n",
              "      <td>Did not work with my HTC Eris Droid to well. I...</td>\n",
              "      <td>04 8, 2010</td>\n",
              "      <td>A16JSCA4XNZDT4</td>\n",
              "      <td>James Ross</td>\n",
              "      <td>works ok. not for noisey enviroments.</td>\n",
              "      <td>1270684800</td>\n",
              "      <td>True</td>\n",
              "      <td>works ok. not for noisey enviroments.</td>\n",
              "      <td>battery</td>\n",
              "      <td>pos,0.7269</td>\n",
              "      <td>did,not,work,with,my,htc,eris,droid,to,well,it...</td>\n",
              "      <td>work,htc,eris,droid,well,get,staticy,times,hea...</td>\n",
              "    </tr>\n",
              "    <tr>\n",
              "      <th>4</th>\n",
              "      <td>2.0</td>\n",
              "      <td>I purchase this battery back in 2013 and use t...</td>\n",
              "      <td>09 12, 2016</td>\n",
              "      <td>A34PLO79FZAECV</td>\n",
              "      <td>P. Kim</td>\n",
              "      <td>short shelf life.</td>\n",
              "      <td>1473638400</td>\n",
              "      <td>True</td>\n",
              "      <td>short shelf life.</td>\n",
              "      <td>battery</td>\n",
              "      <td>pos,0.5853</td>\n",
              "      <td>i,purchase,this,battery,back,in,,and,use,two,w...</td>\n",
              "      <td>purchase,battery,back,,use,two,worked,well,try...</td>\n",
              "    </tr>\n",
              "  </tbody>\n",
              "</table>\n",
              "</div>\n",
              "    <div class=\"colab-df-buttons\">\n",
              "\n",
              "  <div class=\"colab-df-container\">\n",
              "    <button class=\"colab-df-convert\" onclick=\"convertToInteractive('df-3718da02-b41d-4a2e-ad55-83169d2d2a19')\"\n",
              "            title=\"Convert this dataframe to an interactive table.\"\n",
              "            style=\"display:none;\">\n",
              "\n",
              "  <svg xmlns=\"http://www.w3.org/2000/svg\" height=\"24px\" viewBox=\"0 -960 960 960\">\n",
              "    <path d=\"M120-120v-720h720v720H120Zm60-500h600v-160H180v160Zm220 220h160v-160H400v160Zm0 220h160v-160H400v160ZM180-400h160v-160H180v160Zm440 0h160v-160H620v160ZM180-180h160v-160H180v160Zm440 0h160v-160H620v160Z\"/>\n",
              "  </svg>\n",
              "    </button>\n",
              "\n",
              "  <style>\n",
              "    .colab-df-container {\n",
              "      display:flex;\n",
              "      gap: 12px;\n",
              "    }\n",
              "\n",
              "    .colab-df-convert {\n",
              "      background-color: #E8F0FE;\n",
              "      border: none;\n",
              "      border-radius: 50%;\n",
              "      cursor: pointer;\n",
              "      display: none;\n",
              "      fill: #1967D2;\n",
              "      height: 32px;\n",
              "      padding: 0 0 0 0;\n",
              "      width: 32px;\n",
              "    }\n",
              "\n",
              "    .colab-df-convert:hover {\n",
              "      background-color: #E2EBFA;\n",
              "      box-shadow: 0px 1px 2px rgba(60, 64, 67, 0.3), 0px 1px 3px 1px rgba(60, 64, 67, 0.15);\n",
              "      fill: #174EA6;\n",
              "    }\n",
              "\n",
              "    .colab-df-buttons div {\n",
              "      margin-bottom: 4px;\n",
              "    }\n",
              "\n",
              "    [theme=dark] .colab-df-convert {\n",
              "      background-color: #3B4455;\n",
              "      fill: #D2E3FC;\n",
              "    }\n",
              "\n",
              "    [theme=dark] .colab-df-convert:hover {\n",
              "      background-color: #434B5C;\n",
              "      box-shadow: 0px 1px 3px 1px rgba(0, 0, 0, 0.15);\n",
              "      filter: drop-shadow(0px 1px 2px rgba(0, 0, 0, 0.3));\n",
              "      fill: #FFFFFF;\n",
              "    }\n",
              "  </style>\n",
              "\n",
              "    <script>\n",
              "      const buttonEl =\n",
              "        document.querySelector('#df-3718da02-b41d-4a2e-ad55-83169d2d2a19 button.colab-df-convert');\n",
              "      buttonEl.style.display =\n",
              "        google.colab.kernel.accessAllowed ? 'block' : 'none';\n",
              "\n",
              "      async function convertToInteractive(key) {\n",
              "        const element = document.querySelector('#df-3718da02-b41d-4a2e-ad55-83169d2d2a19');\n",
              "        const dataTable =\n",
              "          await google.colab.kernel.invokeFunction('convertToInteractive',\n",
              "                                                    [key], {});\n",
              "        if (!dataTable) return;\n",
              "\n",
              "        const docLinkHtml = 'Like what you see? Visit the ' +\n",
              "          '<a target=\"_blank\" href=https://colab.research.google.com/notebooks/data_table.ipynb>data table notebook</a>'\n",
              "          + ' to learn more about interactive tables.';\n",
              "        element.innerHTML = '';\n",
              "        dataTable['output_type'] = 'display_data';\n",
              "        await google.colab.output.renderOutput(dataTable, element);\n",
              "        const docLink = document.createElement('div');\n",
              "        docLink.innerHTML = docLinkHtml;\n",
              "        element.appendChild(docLink);\n",
              "      }\n",
              "    </script>\n",
              "  </div>\n",
              "\n",
              "\n",
              "<div id=\"df-3c3455e8-70ac-48a7-8288-19c4a3dae05e\">\n",
              "  <button class=\"colab-df-quickchart\" onclick=\"quickchart('df-3c3455e8-70ac-48a7-8288-19c4a3dae05e')\"\n",
              "            title=\"Suggest charts\"\n",
              "            style=\"display:none;\">\n",
              "\n",
              "<svg xmlns=\"http://www.w3.org/2000/svg\" height=\"24px\"viewBox=\"0 0 24 24\"\n",
              "     width=\"24px\">\n",
              "    <g>\n",
              "        <path d=\"M19 3H5c-1.1 0-2 .9-2 2v14c0 1.1.9 2 2 2h14c1.1 0 2-.9 2-2V5c0-1.1-.9-2-2-2zM9 17H7v-7h2v7zm4 0h-2V7h2v10zm4 0h-2v-4h2v4z\"/>\n",
              "    </g>\n",
              "</svg>\n",
              "  </button>\n",
              "\n",
              "<style>\n",
              "  .colab-df-quickchart {\n",
              "      --bg-color: #E8F0FE;\n",
              "      --fill-color: #1967D2;\n",
              "      --hover-bg-color: #E2EBFA;\n",
              "      --hover-fill-color: #174EA6;\n",
              "      --disabled-fill-color: #AAA;\n",
              "      --disabled-bg-color: #DDD;\n",
              "  }\n",
              "\n",
              "  [theme=dark] .colab-df-quickchart {\n",
              "      --bg-color: #3B4455;\n",
              "      --fill-color: #D2E3FC;\n",
              "      --hover-bg-color: #434B5C;\n",
              "      --hover-fill-color: #FFFFFF;\n",
              "      --disabled-bg-color: #3B4455;\n",
              "      --disabled-fill-color: #666;\n",
              "  }\n",
              "\n",
              "  .colab-df-quickchart {\n",
              "    background-color: var(--bg-color);\n",
              "    border: none;\n",
              "    border-radius: 50%;\n",
              "    cursor: pointer;\n",
              "    display: none;\n",
              "    fill: var(--fill-color);\n",
              "    height: 32px;\n",
              "    padding: 0;\n",
              "    width: 32px;\n",
              "  }\n",
              "\n",
              "  .colab-df-quickchart:hover {\n",
              "    background-color: var(--hover-bg-color);\n",
              "    box-shadow: 0 1px 2px rgba(60, 64, 67, 0.3), 0 1px 3px 1px rgba(60, 64, 67, 0.15);\n",
              "    fill: var(--button-hover-fill-color);\n",
              "  }\n",
              "\n",
              "  .colab-df-quickchart-complete:disabled,\n",
              "  .colab-df-quickchart-complete:disabled:hover {\n",
              "    background-color: var(--disabled-bg-color);\n",
              "    fill: var(--disabled-fill-color);\n",
              "    box-shadow: none;\n",
              "  }\n",
              "\n",
              "  .colab-df-spinner {\n",
              "    border: 2px solid var(--fill-color);\n",
              "    border-color: transparent;\n",
              "    border-bottom-color: var(--fill-color);\n",
              "    animation:\n",
              "      spin 1s steps(1) infinite;\n",
              "  }\n",
              "\n",
              "  @keyframes spin {\n",
              "    0% {\n",
              "      border-color: transparent;\n",
              "      border-bottom-color: var(--fill-color);\n",
              "      border-left-color: var(--fill-color);\n",
              "    }\n",
              "    20% {\n",
              "      border-color: transparent;\n",
              "      border-left-color: var(--fill-color);\n",
              "      border-top-color: var(--fill-color);\n",
              "    }\n",
              "    30% {\n",
              "      border-color: transparent;\n",
              "      border-left-color: var(--fill-color);\n",
              "      border-top-color: var(--fill-color);\n",
              "      border-right-color: var(--fill-color);\n",
              "    }\n",
              "    40% {\n",
              "      border-color: transparent;\n",
              "      border-right-color: var(--fill-color);\n",
              "      border-top-color: var(--fill-color);\n",
              "    }\n",
              "    60% {\n",
              "      border-color: transparent;\n",
              "      border-right-color: var(--fill-color);\n",
              "    }\n",
              "    80% {\n",
              "      border-color: transparent;\n",
              "      border-right-color: var(--fill-color);\n",
              "      border-bottom-color: var(--fill-color);\n",
              "    }\n",
              "    90% {\n",
              "      border-color: transparent;\n",
              "      border-bottom-color: var(--fill-color);\n",
              "    }\n",
              "  }\n",
              "</style>\n",
              "\n",
              "  <script>\n",
              "    async function quickchart(key) {\n",
              "      const quickchartButtonEl =\n",
              "        document.querySelector('#' + key + ' button');\n",
              "      quickchartButtonEl.disabled = true;  // To prevent multiple clicks.\n",
              "      quickchartButtonEl.classList.add('colab-df-spinner');\n",
              "      try {\n",
              "        const charts = await google.colab.kernel.invokeFunction(\n",
              "            'suggestCharts', [key], {});\n",
              "      } catch (error) {\n",
              "        console.error('Error during call to suggestCharts:', error);\n",
              "      }\n",
              "      quickchartButtonEl.classList.remove('colab-df-spinner');\n",
              "      quickchartButtonEl.classList.add('colab-df-quickchart-complete');\n",
              "    }\n",
              "    (() => {\n",
              "      let quickchartButtonEl =\n",
              "        document.querySelector('#df-3c3455e8-70ac-48a7-8288-19c4a3dae05e button');\n",
              "      quickchartButtonEl.style.display =\n",
              "        google.colab.kernel.accessAllowed ? 'block' : 'none';\n",
              "    })();\n",
              "  </script>\n",
              "</div>\n",
              "\n",
              "    </div>\n",
              "  </div>\n"
            ],
            "application/vnd.google.colaboratory.intrinsic+json": {
              "type": "dataframe",
              "variable_name": "pdf",
              "summary": "{\n  \"name\": \"pdf\",\n  \"rows\": 56015,\n  \"fields\": [\n    {\n      \"column\": \"overall\",\n      \"properties\": {\n        \"dtype\": \"number\",\n        \"std\": 1.3903018544228225,\n        \"min\": 1.0,\n        \"max\": 5.0,\n        \"samples\": [\n          3.0,\n          4.0,\n          2.0\n        ],\n        \"num_unique_values\": 5,\n        \"semantic_type\": \"\",\n        \"description\": \"\"\n      }\n    },\n    {\n      \"column\": \"reviewText\",\n      \"properties\": {\n        \"dtype\": \"string\",\n        \"samples\": [\n          \"Works great, although I have a fast charger which i bought with the phone this right here makes it a bit easier to just change the battery instead of waiting a few hours.\",\n          \"Only down side if the screen cracks, the phone is useless where I have had phones that the screen has cracked and I can still use it.\",\n          \"Works great and perfect fitment. It is not hard to put them on the phone at all and my old Note 3 actually looks newer with this on top. It has been months since the applications of the tempered screen, no scratch, easily to clean the fingerprints off, and does not leave any kind of visual stain on there.\"\n        ],\n        \"num_unique_values\": 54818,\n        \"semantic_type\": \"\",\n        \"description\": \"\"\n      }\n    },\n    {\n      \"column\": \"reviewTime\",\n      \"properties\": {\n        \"dtype\": \"object\",\n        \"min\": \"01 1, 2012\",\n        \"max\": \"12 9, 2017\",\n        \"samples\": [\n          \"04 16, 2016\",\n          \"07 11, 2015\",\n          \"07 27, 2006\"\n        ],\n        \"num_unique_values\": 3096,\n        \"semantic_type\": \"\",\n        \"description\": \"\"\n      }\n    },\n    {\n      \"column\": \"reviewerID\",\n      \"properties\": {\n        \"dtype\": \"string\",\n        \"samples\": [\n          \"A372K6TZ7UPMI4\",\n          \"A7XPIBF4UOCVQ\",\n          \"A30UVB7ECM1UP1\"\n        ],\n        \"num_unique_values\": 42258,\n        \"semantic_type\": \"\",\n        \"description\": \"\"\n      }\n    },\n    {\n      \"column\": \"reviewerName\",\n      \"properties\": {\n        \"dtype\": \"string\",\n        \"samples\": [\n          \"Brenda Barragan\",\n          \"NCMickey\",\n          \"Alexa\"\n        ],\n        \"num_unique_values\": 34887,\n        \"semantic_type\": \"\",\n        \"description\": \"\"\n      }\n    },\n    {\n      \"column\": \"summary\",\n      \"properties\": {\n        \"dtype\": \"string\",\n        \"samples\": [\n          \"if you want to have your super smartphone screen look like galaxy s2\",\n          \"It was a really bad buy almost all the ZenFone are having problem with ...\",\n          \"The best I've purchased\"\n        ],\n        \"num_unique_values\": 39715,\n        \"semantic_type\": \"\",\n        \"description\": \"\"\n      }\n    },\n    {\n      \"column\": \"unixReviewTime\",\n      \"properties\": {\n        \"dtype\": \"number\",\n        \"std\": 48195140,\n        \"min\": 1069200000,\n        \"max\": 1538092800,\n        \"samples\": [\n          1460764800,\n          1436572800,\n          1153958400\n        ],\n        \"num_unique_values\": 3096,\n        \"semantic_type\": \"\",\n        \"description\": \"\"\n      }\n    },\n    {\n      \"column\": \"verified\",\n      \"properties\": {\n        \"dtype\": \"boolean\",\n        \"samples\": [\n          true\n        ],\n        \"num_unique_values\": 1,\n        \"semantic_type\": \"\",\n        \"description\": \"\"\n      }\n    },\n    {\n      \"column\": \"summary_lower\",\n      \"properties\": {\n        \"dtype\": \"string\",\n        \"samples\": [\n          \"wonderful device for atrix2!\"\n        ],\n        \"num_unique_values\": 37908,\n        \"semantic_type\": \"\",\n        \"description\": \"\"\n      }\n    },\n    {\n      \"column\": \"category\",\n      \"properties\": {\n        \"dtype\": \"category\",\n        \"samples\": [\n          \"connectivity\"\n        ],\n        \"num_unique_values\": 10,\n        \"semantic_type\": \"\",\n        \"description\": \"\"\n      }\n    },\n    {\n      \"column\": \"sentiment\",\n      \"properties\": {\n        \"dtype\": \"category\",\n        \"samples\": [\n          \"neu,0.3506\"\n        ],\n        \"num_unique_values\": 5592,\n        \"semantic_type\": \"\",\n        \"description\": \"\"\n      }\n    },\n    {\n      \"column\": \"reviewText_lower_str\",\n      \"properties\": {\n        \"dtype\": \"string\",\n        \"samples\": [\n          \"this,works,great,for,completely,reflecting,any,and,everything,thats,put,in,front,of,it,but,while,in,the,sun,its,hard,to,see,your,screen,very,hard,if,you,dont,mind,that,one,problem,i,recommend,it,especially,to,women,because,it,acts,as,a,mirror,very,well,two,in,one\"\n        ],\n        \"num_unique_values\": 54676,\n        \"semantic_type\": \"\",\n        \"description\": \"\"\n      }\n    },\n    {\n      \"column\": \"filtered_str\",\n      \"properties\": {\n        \"dtype\": \"string\",\n        \"samples\": [\n          \"bought,power,bank,wife,,bit,attractive,lot,battery,packs,harmonica,style,makes,comfortably,portable,,doesnt,precise,readout,charge,remaining,four,green,leds,representing,,charge,,however,charge,g,,,hour,ten,minutes,using,port,still,showed,three,green,,far,good\"\n        ],\n        \"num_unique_values\": 54510,\n        \"semantic_type\": \"\",\n        \"description\": \"\"\n      }\n    }\n  ]\n}"
            }
          },
          "metadata": {},
          "execution_count": 21
        }
      ]
    },
    {
      "cell_type": "code",
      "source": [
        "pdf.to_csv('/content/gdrive/MyDrive/PBDM project/results__.csv')"
      ],
      "metadata": {
        "id": "z3vHJzc7Xo06"
      },
      "execution_count": null,
      "outputs": []
    }
  ]
}